{
 "cells": [
  {
   "attachments": {},
   "cell_type": "markdown",
   "metadata": {},
   "source": [
    "# Semantic Search TF-IDF Model First Draft\n",
    "\n",
    "This Jupyter notebook is meant to serve as an introduction to reading Github `.md` documentation and analyzing it..."
   ]
  },
  {
   "cell_type": "code",
   "execution_count": 1,
   "metadata": {},
   "outputs": [],
   "source": [
    "%load_ext autoreload\n",
    "%autoreload 2"
   ]
  },
  {
   "cell_type": "code",
   "execution_count": 1,
   "metadata": {},
   "outputs": [
    {
     "ename": "ModuleNotFoundError",
     "evalue": "No module named 'tfidf_semantic_search'",
     "output_type": "error",
     "traceback": [
      "\u001b[0;31m---------------------------------------------------------------------------\u001b[0m",
      "\u001b[0;31mModuleNotFoundError\u001b[0m                       Traceback (most recent call last)",
      "Cell \u001b[0;32mIn[1], line 1\u001b[0m\n\u001b[0;32m----> 1\u001b[0m \u001b[39mimport\u001b[39;00m \u001b[39mtfidf_semantic_search\u001b[39;00m \u001b[39mas\u001b[39;00m \u001b[39msemsearch\u001b[39;00m\n\u001b[1;32m      2\u001b[0m \u001b[39mimport\u001b[39;00m \u001b[39mhelper_funcs\u001b[39;00m \u001b[39mas\u001b[39;00m \u001b[39mhelper\u001b[39;00m\n\u001b[1;32m      4\u001b[0m preproc_docs \u001b[39m=\u001b[39m helper\u001b[39m.\u001b[39mread_clean_process_data(\u001b[39m\"\u001b[39m\u001b[39mdocs/docs\u001b[39m\u001b[39m\"\u001b[39m);\n",
      "\u001b[0;31mModuleNotFoundError\u001b[0m: No module named 'tfidf_semantic_search'"
     ]
    }
   ],
   "source": [
    "import tfidf_semantic_search as semsearch\n",
    "import helper_funcs as helper\n",
    "\n",
    "preproc_docs = helper.read_clean_process_data(\"docs/docs\");\n",
    "vectorizer, tfidf_matrix = helper.load_tfidf()"
   ]
  },
  {
   "cell_type": "code",
   "execution_count": 3,
   "metadata": {},
   "outputs": [
    {
     "name": "stdout",
     "output_type": "stream",
     "text": [
      "Top 5 most relevant files to your query with similarity scores included:\n",
      "\n",
      "1. Running Workflows: 0.2151150016737541\n",
      "2. Restarting Your Workspace: 0.1701258712599974\n",
      "3. Creating Clusters: 0.161842437326808\n",
      "4. Navigating The Platform: 0.15312031446707564\n",
      "5. Starting Stopping Clusters: 0.1185833979511654\n"
     ]
    }
   ],
   "source": [
    "query = \"How do I start a new workflow?\"\n",
    "\n",
    "semsearch.get_relevant_files(query, preproc_docs, vectorizer, tfidf_matrix, include_score=True, verbose=True);"
   ]
  }
 ],
 "metadata": {
  "kernelspec": {
   "display_name": "Python 3",
   "language": "python",
   "name": "python3"
  },
  "language_info": {
   "codemirror_mode": {
    "name": "ipython",
    "version": 3
   },
   "file_extension": ".py",
   "mimetype": "text/x-python",
   "name": "python",
   "nbconvert_exporter": "python",
   "pygments_lexer": "ipython3",
   "version": "3.11.3"
  },
  "orig_nbformat": 4
 },
 "nbformat": 4,
 "nbformat_minor": 2
}
