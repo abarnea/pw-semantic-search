{
 "cells": [
  {
   "attachments": {},
   "cell_type": "markdown",
   "metadata": {},
   "source": [
    "# Semantic Search TF-IDF Model First Draft\n",
    "\n",
    "This Jupyter notebook is meant to serve as an introduction to reading Github `.md` documentation and analyzing it..."
   ]
  },
  {
   "cell_type": "code",
   "execution_count": 1,
   "metadata": {},
   "outputs": [],
   "source": [
    "%load_ext autoreload\n",
    "%autoreload 2"
   ]
  },
  {
   "cell_type": "code",
   "execution_count": 2,
   "metadata": {},
   "outputs": [],
   "source": [
    "import tfidf_semantic_search as semsearch\n",
    "import helper_funcs as helper\n",
    "\n",
    "preproc_docs = helper.read_clean_process_data(\"docs/docs\");\n",
    "vectorizer, tfidf_matrix = helper.load_tfidf()"
   ]
  },
  {
   "cell_type": "code",
   "execution_count": 3,
   "metadata": {},
   "outputs": [
    {
     "name": "stdout",
     "output_type": "stream",
     "text": [
      "Top 5 most relevant files to your query with similarity scores included:\n",
      "\n",
      "1. Running Workflows: 0.2151150016737541\n",
      "2. Restarting Your Workspace: 0.1701258712599974\n",
      "3. Creating Clusters: 0.161842437326808\n",
      "4. Navigating The Platform: 0.15312031446707564\n",
      "5. Starting Stopping Clusters: 0.1185833979511654\n"
     ]
    }
   ],
   "source": [
    "query = \"How do I start a new workflow?\"\n",
    "\n",
    "semsearch.get_relevant_files(query, preproc_docs, vectorizer, tfidf_matrix, include_score=True, verbose=True);"
   ]
  }
 ],
 "metadata": {
  "kernelspec": {
   "display_name": "Python 3",
   "language": "python",
   "name": "python3"
  },
  "language_info": {
   "codemirror_mode": {
    "name": "ipython",
    "version": 3
   },
   "file_extension": ".py",
   "mimetype": "text/x-python",
   "name": "python",
   "nbconvert_exporter": "python",
   "pygments_lexer": "ipython3",
   "version": "3.11.3"
  },
  "orig_nbformat": 4
 },
 "nbformat": 4,
 "nbformat_minor": 2
}
