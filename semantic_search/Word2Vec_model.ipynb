{
 "cells": [
  {
   "attachments": {},
   "cell_type": "markdown",
   "metadata": {},
   "source": [
    "# Semantic Search Word2Vec Model First Draft\n",
    "\n",
    "This Jupyter notebook is meant to serve as an introduction to reading Github `.md` documentation and analyzing it..."
   ]
  },
  {
   "attachments": {},
   "cell_type": "markdown",
   "metadata": {},
   "source": [
    "## Phase 1: Documentation Data Reading and Pre-Processing"
   ]
  },
  {
   "attachments": {},
   "cell_type": "markdown",
   "metadata": {},
   "source": [
    "### Step 1: Reading and Storing the Documentation Data\n",
    "\n",
    "In this section, we'll read the markdown `.md` file data, collect it, and store it for processing. We can do this by reading through all of the `.md` files in a directory and reading them into plain text format, then storing it."
   ]
  },
  {
   "cell_type": "code",
   "execution_count": 13,
   "metadata": {},
   "outputs": [],
   "source": [
    "import doc_reader as reader\n",
    "\n",
    "doc_data = reader.collect_doc_data(\"docs/docs\")"
   ]
  },
  {
   "attachments": {},
   "cell_type": "markdown",
   "metadata": {},
   "source": [
    "### Step 2: Cleaning the Documentation Data\n",
    "\n",
    "In this section, we'll take our collected and stored documentation data from Step 1 and clean it up so we can use it. This could include removing HTML tags, removing punctuation and special characters, removing extra whitespaces from the text, making all of our text lowercase for semantic searching, and catching any mispellings in the documentation."
   ]
  },
  {
   "cell_type": "code",
   "execution_count": 14,
   "metadata": {},
   "outputs": [],
   "source": [
    "import md_cleaner as cleaner\n",
    "\n",
    "cleaned_doc_data = cleaner.clean_doc_data(doc_data)"
   ]
  },
  {
   "attachments": {},
   "cell_type": "markdown",
   "metadata": {},
   "source": [
    "### Step 3: Pre-processing the Documentation Data\n",
    "\n",
    "In this section, we'll take our cleaned documentation data from Step 2 and pre-process it by tokenization, stemming lemmatization, and stop-word removal."
   ]
  },
  {
   "cell_type": "code",
   "execution_count": 15,
   "metadata": {},
   "outputs": [],
   "source": [
    "import md_preprocessor as preprocessor\n",
    "\n",
    "preproc_docs = preprocessor.preprocess_doc_data(cleaned_doc_data)"
   ]
  },
  {
   "cell_type": "code",
   "execution_count": 16,
   "metadata": {},
   "outputs": [
    {
     "name": "stdout",
     "output_type": "stream",
     "text": [
      "11855\n"
     ]
    }
   ],
   "source": [
    "sum = 0\n",
    "for doc, content in preproc_docs.items():\n",
    "    sum += len(content)\n",
    "\n",
    "print(sum)"
   ]
  },
  {
   "attachments": {},
   "cell_type": "markdown",
   "metadata": {},
   "source": [
    "## Phase 2: Implementing Semantic Search with Word2Vec\n",
    "\n",
    "Now, we can use `Gensim` to implement the semantic searching of the cleaned and pre-processed documentation data with its Word2Vec algorithm. This basically maps words and phrases to dense vector representations in a high-dimensional space."
   ]
  },
  {
   "cell_type": "code",
   "execution_count": 17,
   "metadata": {},
   "outputs": [],
   "source": [
    "import gensim.downloader\n",
    "\n",
    "pretrained_model = gensim.downloader.load('word2vec-google-news-300')"
   ]
  },
  {
   "cell_type": "code",
   "execution_count": 18,
   "metadata": {},
   "outputs": [],
   "source": [
    "import gensim\n",
    "from gensim.models import Word2Vec\n",
    "import numpy as np\n",
    "\n",
    "corpus = list(preproc_docs.values())\n",
    "model = Word2Vec(corpus, vector_size=500, window=5, min_count=5, workers=4)\n",
    "model.build_vocab_from_freq(pretrained_model.key_to_index, corpus_count=len(corpus), update=True)"
   ]
  },
  {
   "cell_type": "code",
   "execution_count": 19,
   "metadata": {},
   "outputs": [],
   "source": [
    "document_embeddings = {}\n",
    "\n",
    "for filename, tokens in preproc_docs.items():\n",
    "    embeddings = [model.wv[word] for word in tokens if word in model.wv]\n",
    "    if embeddings:\n",
    "        document_embeddings[filename] = gensim.matutils.unitvec(np.mean(embeddings, axis=0))"
   ]
  },
  {
   "cell_type": "code",
   "execution_count": 20,
   "metadata": {},
   "outputs": [],
   "source": [
    "def run_query(query_str: str):\n",
    "    \"\"\"\n",
    "    Performs a similarity search on the inputted query against the given Word2Vec model.\n",
    "\n",
    "    Parameters:\n",
    "        query_str (str) : user query\n",
    "    \n",
    "    Returns:\n",
    "        similar_docs (list[str]) : most similar docs in order\n",
    "    \"\"\"\n",
    "    corrected_query = cleaner.correct_spelling(query_str)\n",
    "    query_tokens = preprocessor.preprocess_str(cleaner.clean_str(corrected_query))\n",
    "    average_vec_rep = [model.wv[token] for token in query_tokens if token in model.wv]\n",
    "    query_embedding = gensim.matutils.unitvec(np.mean(average_vec_rep, axis=0))\n",
    "\n",
    "    similar_docs = []\n",
    "    for filename, doc_embedding in document_embeddings.items():\n",
    "        similarity_score = np.dot(doc_embedding, query_embedding)\n",
    "        similar_docs.append((filename, similarity_score))\n",
    "    \n",
    "    similar_docs = sorted(similar_docs, key=lambda x: x[1], reverse=True)\n",
    "\n",
    "    return similar_docs"
   ]
  },
  {
   "cell_type": "code",
   "execution_count": 21,
   "metadata": {},
   "outputs": [],
   "source": [
    "def get_relevant_files(query, top_k=5, include_score=False, verbose=False):\n",
    "    \"\"\"\n",
    "    Gets the top 'k' relevant files from an inputted query. Defaults to top\n",
    "    5 most relevant files.\n",
    "\n",
    "    Parameters:\n",
    "        query (str) : question to search PW documentation for\n",
    "        top_k (int) : top 'k' most relevant files to return (default: 5)\n",
    "        include_score (bool) : if True, includes similarity score of file\n",
    "        verbose (bool) : if True, prints files in addition to returning\n",
    "    \n",
    "    Returns:\n",
    "        rel_files (list) : top 'k' most relevant files\n",
    "    \"\"\"\n",
    "    try:\n",
    "        similar_docs = run_query(query)\n",
    "    except TypeError:\n",
    "        print(\"Your query does not match anything in our system.\")\n",
    "        return []\n",
    "\n",
    "    if include_score:\n",
    "        rel_files = similar_docs[:top_k]\n",
    "        if verbose:\n",
    "            print(f\"Top {top_k} most relevant files to your query with similarity scores included:\\n\")\n",
    "            for i, (file, sim_score) in enumerate(rel_files):\n",
    "                print(f\"{i + 1}. {file}: {sim_score}\")\n",
    "        return rel_files\n",
    "    else:\n",
    "        rel_files = [filename for filename, _ in similar_docs[:top_k]]\n",
    "        if verbose:\n",
    "            print(f\"Top {top_k} most relevant files to your query:\\n\")\n",
    "            for i, file in enumerate(rel_files):\n",
    "                print(f\"{i + 1}. {file}\")\n",
    "    return rel_files"
   ]
  },
  {
   "cell_type": "code",
   "execution_count": 22,
   "metadata": {},
   "outputs": [],
   "source": [
    "def get_file_content_from_filenames(filenames: list, docs: dict) -> list:\n",
    "    \"\"\"\n",
    "    Helper function that takes a list of filenames and returns a list of\n",
    "    the cleaned and preprocessed contents of those files.\n",
    "\n",
    "    Parameters:\n",
    "        filenames (list) : filenames to get content of\n",
    "        docs (dict) : documents keyed by filename and valued with content\n",
    "\n",
    "    Returns:\n",
    "        file_content (list) : content of each of the inputted filenames \n",
    "    \"\"\"\n",
    "    return [docs[file] for file in filenames]"
   ]
  },
  {
   "cell_type": "code",
   "execution_count": 23,
   "metadata": {},
   "outputs": [],
   "source": [
    "# for i, val in enumerate(preproc_docs.values()):\n",
    "#     print(f\"{i}. {len(val)}\")"
   ]
  },
  {
   "cell_type": "code",
   "execution_count": 29,
   "metadata": {},
   "outputs": [],
   "source": [
    "import openai\n",
    "import helper_funcs as helper\n",
    "\n",
    "def run_gpt(query, *args, api_key=helper.get_api_key()):\n",
    "    \"\"\"\n",
    "    Function that runs the gpt-3.5-turbo AI API on a query and set of arguments\n",
    "    Arguments should consist of a variable length list, where each\n",
    "    element contains a list of tokens from the most relevant files related to\n",
    "    the inputted query.\n",
    "\n",
    "    Paramaters:\n",
    "        query (str) : inputted query from user\n",
    "        *args (list[list[str]]) : array containing document information tokens\n",
    "        api_key (str) : user API key to run\n",
    "    \n",
    "    Returns:\n",
    "        reply (str) : GPT AI response to query with supporting relevant documents\n",
    "    \"\"\"\n",
    "    openai.api_key = api_key\n",
    "\n",
    "    messages = [\n",
    "        {\"role\": \"system\", \"content\": \"You are a helpful assistant.\"},\n",
    "        {\"role\": \"user\", \"content\": query}\n",
    "    ]\n",
    "\n",
    "    for tokens in args:\n",
    "        messages.append({\"role\": \"user\", \"content\": tokens})\n",
    "\n",
    "    response = openai.ChatCompletion.create(\n",
    "        model=\"gpt-3.5-turbo\",\n",
    "        messages=messages\n",
    "    )\n",
    "\n",
    "    reply = response.choices[0].message.content\n",
    "    return reply"
   ]
  },
  {
   "cell_type": "code",
   "execution_count": 30,
   "metadata": {},
   "outputs": [],
   "source": [
    "query = \"Where can I find AWS key buckets?\"\n",
    "\n",
    "rel_files = get_relevant_files(query)\n",
    "\n",
    "rel_content = get_file_content_from_filenames(rel_files, preproc_docs)"
   ]
  },
  {
   "cell_type": "code",
   "execution_count": 32,
   "metadata": {},
   "outputs": [
    {
     "ename": "InvalidRequestError",
     "evalue": "[['transferring', 'data', 'tofrom', 'aws', 's3', 'storage', 'working', 'aws', 'cli', 'transfer', 'data', 'tofrom', 's3', 'bucket', 'storage', 'youll', 'use', 'aws', 'command', 'line', 'interface', 'cli', 'aws', 'cli', 'preinstalled', 'aws', 'cluster', 'pw', 'platform', 'enter', 'command', 'directly', 'ide', 'logging', 'controller', 'active', 'aws', 'cluster', 'youre', 'transferring', 'data', 's3', 'bucket', 'folder', 'onpremise', 'cluster', 'remote', 'device', 'youll', 'likely', 'need', 'install', 'aws', 'cli', 'first', 'check', 'aws', 'cli', 'open', 'terminal', 'command', 'line', 'navigate', 'data', 'destination', 'enter', 'aws', 'aws', 'cli', 'installed', 'youll', 'see', 'message', 'show', 'location', 'usrlocalbinaws', 'aws', 'cli', 'installed', 'youll', 'see', 'message', 'usrbinwhich', 'aws', 'aws', 'found', 'install', 'aws', 'cli', 'need', 'install', 'aws', 'cli', 'recommend', 'following', 'aws', 'installation', 'guide', 'includes', 'osspecific', 'instruction', 'linux', 'macos', 'window', 'well', 'troubleshooting', 'tip', 'transferring', 'data', 'export', 'aws', 'credential', 'terminal', 'enter', 'export', 'awsaccesskeyid', 'aws', 'access', 'key', 'id', 'blank', 'space', 'enter', 'export', 'awssecretaccesskey', 'aws', 'access', 'key', 'id', 'blank', 'space', 'info', 'note', 'please', 'sure', 'include', 'quotation', 'mark', 'end', 'key', 'id', 'character', 'inside', 'aws', 'key', 'id', 'without', 'quotation', 'mark', 'system', 'try', 'read', 'command', 'validate', 'aws', 'credential', 'terminal', 'enter', 'aws', 'sts', 'getcalleridentity', 'check', 'system', 'correctly', 'registered', 'aws', 'credential', 'login', 'successful', 'youll', 'see', 'aws', 'userid', 'account', 'arn', 'bash', 'userid', 'abcd1e2fg3h4ijklmnopq', 'account', '012345678901', 'arn', 'arnawsiam', '012345678901useradmin', 'login', 'successful', 'enter', 'aws', 'access', 'key', 'export', 'command', 'also', 'configure', 'login', 'credential', 'manually', 'aws', 'configure', 'information', 'process', 'see', 'aws', 'documentation', 'environment', 'variable', 'configuration', 'file', 'list', 'file', 's3', 'terminal', 'enter', 'aws', 's3', 'l', 's3bucketname', 'display', 'file', 'bucket', 'guide', 'used', 'small', 'text', 'file', 'named', 'testtxt', 'command', 'returned', 'message', 'bash', 'demopwuserdemopwclouddatatransfer', 'aws', 's3', 'l', 's3clouddatatest', '20230208', '163756', '28', 'testtxt', 'transfer', 'file', 's3', 'terminal', 'enter', 'aws', 's3', 'cp', 's3bucketnamefilename', 'download', 'file', 's3', 'storage', 'current', 'directory', 'youll', 'see', 'message', 'bash', 'demopwuserdemopwclouddatatransfer', 'aws', 's3', 'cp', 's3clouddatatesttesttxt', 'download', 's3clouddatatesttesttxt', 'testtxt', 'download', 'file', 's3', 'storage', 'specific', 'directory', 'enter', 'name', 'aws', 's3', 'cp', 'command', 'used', 'storage', 'directory', 'example', 'bash', 'demopwuserdemopwclouddatatransfer', 'aws', 's3', 'cp', 's3clouddatatesttesttxt', 'storage', 'download', 's3clouddatatesttesttxt', 'storage', 'transfer', 'file', 's3', 'terminal', 'enter', 'aws', 's3', 'cp', 'filename', 's3bucketname', 'transfer', 'file', 's3', 'bucket', 'youll', 'see', 'message', 'bash', 'demopwuserdemopwclouddatatransfer', 'aws', 's3', 'cp', 'testuploadtxt', 's3clouddatatest', 'upload', 'testuploadtxt', 's3clouddatatesttestuploadtxt', 'check', 's3', 'file', 'aws', 's3', 'l', 's3bucketname', 'bash', 'demopwuserdemopwclouddatatransfer', 'aws', 's3', 'l', 's3clouddatatest', '20230208', '163756', '28', 'testtxt', '20230208', '171924', '28', 'testuploadtxt', 'delete', 'file', 's3', 'terminal', 'enter', 'aws', 's3', 'rm', 's3bucketnamefilename', 'delete', 'file', 'youll', 'see', 'message', 'bash', 'demopwuserdemopwclouddatatransfer', 'aws', 's3', 'rm', 's3clouddatatesttestuploadtxt', 'delete', 's3clouddatatesttestuploadtxt', 'check', 's3', 'file', 'aws', 's3', 'l', 's3bucketname', 'bash', 'demopwuserdemopwclouddatatransfer', 'aws', 's3', 'l', 's3clouddatatest', '20230208', '163756', '28', 'testtxt'], ['logging', 'controller', 'cluster', 'use', 'one', 'node', 'called', 'controller', 'delegate', 'task', 'compute', 'node', 'carry', 'command', 'complete', 'job', 'complete', 'many', 'task', 'pw', 'platform', 'logging', 'controller', 'submitting', 'job', 'transferring', 'data', 'multiple', 'way', 'log', 'controller', 'within', 'platform', 'logging', 'resource', 'name', 'youve', 'started', 'cluster', 'copy', 'name', 'computing', 'resource', 'box', 'expand', 'ide', 'clicking', 'icon', 'terminal', 'doesnt', 'appear', 'ide', 'automatically', 'open', 'one', 'selecting', 'terminal', 'new', 'terminal', 'default', 'terminal', 'show', 'usernamepwuserusernamepw', 'enter', 'command', 'ssh', 'resourcenameclusterspw', 'terminal', 'display', 'message', 'warning', 'permanently', 'added', 'resourcenameclusterspw', 'ecdsa', 'list', 'known', 'host', 'well', 'last', 'login', 'location', 'logging', 'ip', 'address', 'youve', 'started', 'cluster', 'click', 'ip', 'address', 'computing', 'resource', 'box', 'copy', 'expand', 'ide', 'clicking', 'icon', 'terminal', 'doesnt', 'appear', 'ide', 'automatically', 'open', 'one', 'selecting', 'terminal', 'new', 'terminal', 'default', 'terminal', 'show', 'usernamepwuserusernamepw', 'enter', 'command', 'ssh', 'usernameipaddress', 'terminal', 'display', 'last', 'login', 'location', 'info', 'note', 'time', 'start', 'cluster', 'controller', 'assigned', 'random', 'ip', 'address', 'cloud', 'provider', 'available', 'address', 'stop', 'cluster', 'ip', 'address', 'released', 'automatically', 'likely', 'start', 'cluster', 'although', 'unlikely', 'youll', 'encounter', 'cluster', 'ip', 'address', 'may', 'occur', 'start', 'stop', 'cluster', 'frequently', 'may', 'receive', 'following', 'message', 'warning', 'remote', 'host', 'identification', 'changed', 'resolve', 'issue', 'enter', 'command', 'sshkeygen', 'r', 'controlleripaddress', 'see', 'following', 'message', 'shell', 'demopwuserdemo', 'sshkeygen', 'r', '35224100236', 'host', '35224100236', 'found', 'line', '137', 'usersdemosshknownhosts', 'updated', 'original', 'content', 'retained', 'usersdemosshknownhostsold', 'demopwuserdemo', 'ssh', 'canaryparallelworks', 'authenticity', 'host', '35224100236', 'cant', 'established', 'ed25519', 'key', 'fingerprint', 'sha256kzr9scw5qkmiceh2e5z7zhpgadououubnpkqj8uqsog', 'key', 'known', 'name', 'sure', 'want', 'continue', 'connecting', 'yesnofingerprint', 'enter', 'yes', 'youll', 'see', 'message', 'ip', 'address', 'added', 'list', 'known', 'host', 'shell', 'warning', 'permanently', 'added', '35224100236', 'ed25519', 'list', 'known', 'host', 'last', 'login', 'wed', 'jan', '11', '164036', '2023', '1046019063lightspeedhstntxsbcglobalnet', 'demopwuserdemo', 'outside', 'platform', 'logging', 'configuration', 'setting', 'want', 'access', 'cluster', 'terminal', 'command', 'line', 'computer', 'use', 'ssh', 'key', 'log', 'controller', 'see', 'dont', 'ssh', 'key', 'need', 'help', 'cluster', 'navigate', 'cluster', 'configuration', 'setting', 'clicking', 'gear', 'icon', 'computing', 'resource', 'box', 'clicking', 'name', 'resource', 'tab', 'paste', 'public', 'ssh', 'key', 'access', 'public', 'key', 'dialog', 'box', 'select', 'save', 'resource', 'start', 'cluster', 'cluster', 'active', 'navigate', 'terminal', 'command', 'line', 'device', 'enter', 'cluster', 'ip', 'address', 'ssh', 'usernameipaddress', 'youll', 'receive', 'message', 'sure', 'want', 'continue', 'connecting', 'yesnofingerprint', 'enter', 'yes', 'terminal', 'command', 'line', 'display', 'warning', 'permanently', 'added', 'resourcenameclusterspw', 'ecdsa', 'list', 'known', 'host', 'well', 'last', 'login', 'location', 'send', 'command', 'controller', 'remote', 'device', 'logging', 'account', 'setting', 'also', 'add', 'ssh', 'key', 'pw', 'account', 'allow', 'log', 'active', 'cluster', 'device', 'ssh', 'key', 'navigate', 'account', 'page', 'username', 'account', 'authentication', 'tab', 'click', 'add', 'ssh', 'key', 'key', 'field', 'paste', 'public', 'ssh', 'key', 'enter', 'name', 'key', 'title', 'field', 'click', 'add', 'key', 'log', 'active', 'cluster', 'navigate', 'terminal', 'command', 'line', 'device', 'enter', 'ssh', 'pathtosshprivatekey', 'usernameipaddress', 'shell', 'parallelworksparallelsmacbookair', 'sshtest', 'ssh', 'idrsa', 'demo3413524147', 'last', 'failed', 'login', 'thu', 'mar', '2', '094820', 'utc', '2023', '6094197104bcgoogleusercontentcom', 'sshnotty', 'demodemocluster70', 'faq', 'dont', 'use', 'ssh', 'key', 'within', 'platform', 'user', 'workspace', 'ssh', 'key', 'preprovisioned', 'logging', 'controller', 'ide', 'doesnt', 'require', 'ssh', 'key', 'management', 'public', 'key', 'automatically', 'propagated', 'controller', 'private', 'key', 'stay', 'inside', 'workspace', 'whenever', 'start', 'new', 'cluster', 'new', 'key', 'generated', 'propagated', 'facilitate', 'ssh', 'compute', 'node', 'process', 'work', 'home', 'directory', 'shared', 'across', 'node', 'cluster', 'adding', 'public', 'workspace', 'key', 'authorizedkeys', 'file', 'controller', 'automatically', 'allows', 'ssh', 'compute', 'node', 'access', 'public', 'workspace', 'key', 'time', 'command', 'cat', 'sshpwidrsapub', 'ide', 'terminal', 'see', '', 'failed', 'login', 'attempt', 'first', 'time', 'log', 'controller', 'failed', 'login', 'attempt', 'wont', 'affect', 'cluster', 'performance', 'theyre', 'result', 'platform', 'communicates', 'cloud', 'service', 'provider', 'make', 'resource', 'available', 'provisioning', 'process', 'platform', 'repeatedly', 'try', 'ssh', 'controller', 'controller', 'come', 'online', 'platform', 'attempt', 'establish', 'tunnel', 'connection', 'user', 'workspace', 'controller', 'user', 'workspace', 'key', 'isnt', 'available', 'system', 'partway', 'bootstrap', 'process', 'system', 'register', 'connection', 'attempt', 'failure', 'diagram', 'process', 'dont', 'ssh', 'key', 'step', 'guide', 'finding', 'creating', 'ssh', 'key', 'device', 'macos', 'window', 'info', 'note', 'instruction', 'section', 'work', 'window', 'use', 'shell', 'emulator', 'like', 'git', 'bash', 'powershell', 'use', 'putty', 'manage', 'ssh', 'key', 'window', 'see', 'use', 'putty', 'check', 'ssh', 'key', 'open', 'terminal', 'macos', 'command', 'prompt', 'window', 'enter', 'l', 'ssh', 'check', 'ssh', 'key', 'device', 'youve', 'never', 'generated', 'ssh', 'key', 'youll', 'see', 'message', 'l', 'ssh', 'file', 'directory', 'ssh', 'key', 'device', 'theyll', 'listed', 'want', 'use', 'one', 'existing', 'key', 'see', 'get', 'public', 'key', 'create', 'ssh', 'key', 'enter', 'sshkeygen', 'youll', 'see', 'following', 'message', 'shell', 'generating', 'publicprivate', 'rsa', 'key', 'pair', 'enter', 'file', 'save', 'key', 'usersyourname', 'sshidrsa', 'type', 'name', 'new', 'location', 'press', 'returnenter', 'want', 'keep', 'default', 'location', 'first', 'time', 'youve', 'generated', 'ssh', 'key', 'use', 'default', 'location', 'youll', 'see', 'created', 'directory', 'usersyourname', 'ssh', 'youll', 'prompted', 'enter', 'passphrase', 'ssh', 'key', 'following', 'message', 'shell', 'enter', 'passphrase', 'empty', 'passphrase', 'enter', 'passphrase', 'enter', 'passphrase', 'press', 'returnenter', 'line', 'dont', 'want', 'use', 'one', 'youll', 'see', 'following', 'message', 'along', 'key', 'fingerprint', 'key', 'randomart', 'image', 'shell', 'identification', 'saved', 'usersyourname', 'sshidrsa', 'public', 'key', 'saved', 'usersyourname', 'sshidrsapub', 'enter', 'l', 'ssh', 'youll', 'see', 'private', 'public', 'ssh', 'key', 'get', 'public', 'key', 'enter', 'cat', 'sshidrsapub', 'youll', 'see', 'full', 'content', 'public', 'ssh', 'key', 'copy', 'text', 'beginning', 'sshrsa', 'end', 'local', 'youll', 'paste', 'access', 'public', 'key', 'box', 'cluster', 'configuration', 'setting', 'key', 'box', 'account', 'authentication', 'key', 'caution', 'important', 'safety', 'sake', 'never', 'store', 'private', 'ssh', 'key', 'server', 'someone', 'gained', 'access', 'private', 'key', 'could', 'use', 'access', 'device', 'key', 'protects', 'use', 'putty', 'public', 'ssh', 'key', 'must', 'openssh', 'format', 'use', 'pw', 'platform', 'use', 'putty', 'ssh', 'key', 'likely', 'saved', 'ppk', 'format', 'like', 'shell', 'puttyuserkeyfile2', 'sshrsa', 'encryption', 'none', 'comment', 'rsakey20211005', 'publiclines', '6', 'aaaab3nzac1yc2eaaaabjqaaaqeao7fygiresvecemn3clxkgqhg5kcqtel4vu', 'x81zolf1p8rjsjcnlrrd0o2zfquhanfbykadso6vpg18eyhiqahgeogzuaf7', 'tq4oazl3yvyjkjzxqdxhnrhnjmcj438pjd69crqh4apgtupqujookje1pcpcp7fy', 'p2y2hb0wm23k60twsml9wf2p6gsyvyxvwnlohja9luy2dtk39kcs5tmiofhi', 'toe3zjxzytv0xllnfgjxm1gv38yia9r9fzdmxqm2hihfbt5ybb6mabbrdhvto', 'dlha0y8oitqosmoga13mocfyllbgou65ehtnj9talkex3lgdw', 'copying', 'ppk', 'key', 'must', 'converted', 'openssh', 'format', 'easiest', 'way', 'puttygen', 'typically', 'included', 'putty', 'installation', 'cli', 'example', 'using', 'puttygen', 'convert', 'ppk', 'key', 'openssh', 'format', 'shell', 'puttygen', 'puttykeyppk', 'l', 'puttykeypub', 'command', 'explanation', 'puttykeyppk', 'source', 'key', 'file', 'l', 'openssh', 'public', 'key', 'output', 'type', 'puttykeypub', 'output', 'file', 'name', 'result', 'single', 'line', 'public', 'key', 'file', 'openssh', 'format', 'shell', 'cat', 'puttykeypub', 'sshrsa', 'aaaab3nzac1yc2eaaaabjqaaaqeao7fygiresvecemn3clxkgqhg5kcqtel4vux81zolf1p8rjsjcnlrrd0o2zfquhanfbykadso6vpg18eyhiqahgeogzuaf7tq4oazl3yvyjkjzxqdxhnrhnjmcj438pjd69crqh4apgtupqujookje1pcpcp7fyp2y2hb0wm23k60twsml9wf2p6gsyvyxvwnlohja9luy2dtk39kcs5tmiofhitoe3zjxzytv0xllnfgjxm1gv38yia9r9fzdmxqm2hihfbt5ybb6mabbrdhvtodlha0y8oitqosmoga13mocfyllbgou65ehtnj9talkex3lgdw', 'rsakey20211005', 'copy', 'paste', 'key', 'cluster', 'configuration', 'setting', 'pw', 'platform'], ['import', 'tab', 'themetabs', 'import', 'tabitem', 'themetabitem', 'adding', 'cloud', 'account', 'page', 'explains', 'add', 'cloud', 'service', 'provider', 'key', 'pw', 'organization', 'allow', 'provision', 'infrastructure', 'member', 'organization', 'use', 'start', 'cluster', 'info', 'persona', 'step', 'included', 'page', 'completed', 'administrator', 'organization', 'navigate', 'organization', 'setting', 'username', 'organization', 'next', 'page', 'click', 'key', 'key', 'click', 'new', 'key', 'select', 'cloud', 'service', 'provider', 'type', 'dropdown', 'menu', 'next', 'youll', 'add', 'cloud', 'account', 'key', 'process', 'look', 'slightly', 'different', 'cloud', 'service', 'provider', 'choose', 'one', 'youre', 'using', 'option', 'aws', 'us', 'access', 'key', 'authentication', 'youll', 'need', 'access', 'key', 'private', 'access', 'key', 'add', 'aws', 'account', 'pw', 'platform', 'dont', 'access', 'key', 'create', 'one', 'azure', 'us', 'service', 'principle', 'authenticated', 'client', 'secret', 'youll', 'need', 'client', 'id', 'tenant', 'id', 'client', 'secret', 'subscription', 'id', 'add', 'azure', 'account', 'pw', 'platform', 'dont', 'principal', 'secret', 'create', 'one', 'google', 'us', 'service', 'account', 'key', 'authentication', 'youll', 'need', 'json', 'file', 'key', 'add', 'google', 'account', 'pw', 'platform', 'dont', 'service', 'account', 'key', 'create', 'one', 'entering', 'credential', 'click', 'create', 'cloud', 'key', 'next', 'page', 'youll', 'see', 'message', 'security', 'credential', 'added', 'new', 'key', 'listed', 'key', 'tab'], ['deployment', 'base', 'infrastructure', 'order', 'provision', 'cloud', 'cluster', 'must', 'first', 'deploy', 'base', 'set', 'infrastructure', 'csp', 'account', 'throughout', 'documentation', 'refer', 'base', 'infrastructure', 'base', 'infrastructure', 'shared', 'multiple', 'cluster', 'varies', 'csp', 'essence', 'think', 'networking', 'stack', 'cluster', 'deployed', 'top', 'find', 'specific', 'detail', 'implementation', 'base', 'infrastructure', 'csp', 'aws', 'infrastructure', 'deploying', 'base', 'infrastructure', 'provision', 'following', 'aws', 'virtual', 'private', 'cloud', 'vpc', 'internet', 'gateway', 'public', 'private', 'subnets', 'public', 'private', 'route', 'table', 'route', 'network', 'address', 'translation', 'nat', 'gateway', 'elastic', 'ip', 'address', 'nat', 'gateway', 'route', '53', 'hosted', 'zone', 'security', 'group', 'schematic', 'show', 'pwdeployed', 'cluster', 'aws', 'cloud', 'controller', 'compute', 'node', 'shown', 'availability', 'zone', 'useast1a', 'inside', 'useast1', 'region', 'compute', 'node', 'region', 'use', 'single', 'nat', 'gateway', 'outbound', 'internet', 'connectivity', 'nat', 'gateway', 'preprovisioned', 'part', 'base', 'infrastructure', 'ami', 'used', 'controller', 'compute', 'node', 'inside', 'parallel', 'work', 'aws', 'account', 'info', 'expense', 'information', 'creating', 'nat', 'gateway', 'result', 'additional', 'monthly', 'charge', 'aws', 'account', 'information', 'please', 'see', 'aws', 'pricing', 'list'], ['label', 'navigating', 'platform', 'navigating', 'platform', 'section', 'introduces', 'major', 'feature', 'platform', 'help', 'new', 'user', 'get', 'oriented', 'logging', 'navigate', 'cloudparallelworks', 'youll', 'see', 'login', 'page', 'url', 'use', 'may', 'different', 'cloudparallelworks', 'depending', 'organization', 'whether', 'use', 'onpremise', 'dedicated', 'instance', 'platform', 'log', 'password', 'box', 'appear', 'enter', 'username', 'email', 'address', 'click', 'next', 'enter', 'username', 'see', 'error', 'message', 'username', 'email', 'found', 'please', 'reach', 'u', 'supportparallelworkscom', 'assistance', 'home', 'page', 'log', 'pw', 'platform', 'youll', 'see', 'compute', 'tab', 'default', 'youll', 'regularly', 'interact', 'following', 'platform', 'feature', 'compute', 'tab', 'monitor', 'resource', 'workflow', 'resource', 'tab', 'create', 'manage', 'resource', 'workflow', 'tab', 'add', 'manage', 'workflow', 'user', 'workspace', 'panel', 'labeled', 'explorer', 'pw', 'access', 'terminal', 'interface', 'file', 'job', 'youve', 'run', 'platform', 'user', 'menu', 'give', 'access', 'account', 'setting', 'pw', 'marketplace', 'compute', 'compute', 'tab', 'serf', 'primary', 'activity', 'monitor', 'pw', 'platform', 'select', 'favorited', 'workflow', 'adjust', 'resource', 'requirement', 'view', 'past', 'run', 'result', 'page', 'four', 'main', 'box', 'tab', 'favorite', 'workflow', 'store', 'favorited', 'workflow', 'easy', 'access', 'workflow', 'monitor', 'keep', 'track', 'current', 'past', 'workflow', 'run', 'cancel', 'run', 'run', 'workflow', 'resource', 'monitor', 'see', 'many', 'node', 'active', 'long', 'theyve', 'running', 'computing', 'resource', 'stop', 'start', 'resource', 'configure', 'clicking', 'gear', 'icon', 'box', 'expanded', 'default', 'collapse', 'box', 'clicking', 'title', 'arrow', 'next', 'title', 'also', 'collapse', 'individual', 'item', 'computing', 'resource', 'clicking', 'title', 'resource', 'resource', 'tab', 'access', 'current', 'computing', 'resource', 'add', 'new', 'one', 'also', 'manage', 'existing', 'resource', 'favoriting', 'duplicating', 'editing', 'deleting', 'sharing', 'user', 'organization', 'information', 'add', 'configure', 'new', 'resource', 'see', 'creating', 'cluster', 'configuring', 'cluster', 'workflow', 'workflow', 'tab', 'display', 'preconfigured', 'workflow', 'tool', 'template', 'run', 'platform', 'workflow', 'build', 'add', 'marketplace', 'appear', 'automatically', 'also', 'manage', 'existing', 'workflow', 'favoriting', 'duplicating', 'editing', 'deleting', 'sharing', 'user', 'organization', 'user', 'workspace', 'ide', 'explorer', 'pw', 'panel', 'right', 'side', 'screen', 'user', 'workspace', 'also', 'known', 'integrated', 'development', 'environment', 'ide', 'click', 'ide', 'icon', 'panel', 'expand', 'fit', 'screen', 'showing', 'terminal', 'pane', 'bottom', 'page', 'default', 'ide', 'powerful', 'tool', 'allowing', 'view', 'job', 'output', 'error', 'file', 'run', 'code', 'debug', 'workflow', 'ide', 'based', 'theia', 'use', 'terminal', 'ide', 'run', 'command', 'much', 'like', 'terminal', 'macos', 'command', 'prompt', 'window', 'hide', 'ide', 'completely', 'clicking', 'arrow', 'icon', 'appears', 'bottom', 'right', 'corner', 'screen', 'ide', 'collapsed', 'marketplace', 'marketplace', 'page', 'select', 'preconfigured', 'workflow', 'project', 'navigate', 'clicking', 'username', 'selecting', 'marketplace', 'dropdown', 'menu', 'sort', 'preconfigured', 'workflow', 'using', 'either', 'search', 'bar', 'category', 'pane', 'default', 'item', 'category', 'collapsed', 'expand', 'click', 'account', 'account', 'page', 'manage', 'login', 'information', 'cloud', 'snapshot', 'cloud', 'account', 'navigate', 'clicking', 'username', 'selecting', 'account', 'dropdown', 'menu', 'section', 'account', 'page', 'detailed', 'profile', 'change', 'password', 'well', 'display', 'name', 'typing', 'name', 'field', 'username', 'email', 'locked', 'assigned', 'account', 'created', 'api', 'key', 'access', 'api', 'key', 'youll', 'use', 'api', 'key', 'time', 'need', 'interact', 'api', 'automation', 'task', 'cloud', 'snapshot', 'create', 'access', 'cloud', 'snapshot', 'create', 'cloud', 'snapshot', 'temporary', 'virtual', 'machine', 'vm', 'executes', 'script', 'system', 'take', 'snapshot', 'vm', 'us', 'create', 'image', 'access', 'image', 'dropdown', 'menu', 'possible', 'select', 'machine', 'image', 'example', 'organization', 'us', 'application', 'take', 'hour', 'install', 'create', 'cloud', 'snapshot', 'computer', 'installation', 'use', 'snapshot', 'avoid', 'installation', 'process', 'every', 'time', 'user', 'need', 'application', 'information', 'see', 'working', 'cloud', 'snapshot', 'cloud', 'account', 'connect', 'pw', 'account', 'existing', 'cloud', 'account', 'aws', 'google', 'azure', 'use', 'private', 'ssh', 'key', 'existing', 'resource', 'feature', 'useful', 'need', 'connect', 'preconfigured', 'resource', 'either', 'cloud', 'account', 'another', 'user', 'organization', 'information', 'see', 'linking', 'cloud', 'account', 'coming', 'soon']] is not of type 'string' - 'messages.2.content'",
     "output_type": "error",
     "traceback": [
      "\u001b[0;31m---------------------------------------------------------------------------\u001b[0m",
      "\u001b[0;31mInvalidRequestError\u001b[0m                       Traceback (most recent call last)",
      "Cell \u001b[0;32mIn[32], line 1\u001b[0m\n\u001b[0;32m----> 1\u001b[0m response \u001b[39m=\u001b[39m run_gpt(query, rel_content)\n\u001b[1;32m      2\u001b[0m \u001b[39mprint\u001b[39m(\u001b[39mf\u001b[39m\u001b[39m\"\u001b[39m\u001b[39mChatGPT: \u001b[39m\u001b[39m{\u001b[39;00mresponse\u001b[39m}\u001b[39;00m\u001b[39m\"\u001b[39m)\n",
      "Cell \u001b[0;32mIn[29], line 29\u001b[0m, in \u001b[0;36mrun_gpt\u001b[0;34m(query, api_key, *args)\u001b[0m\n\u001b[1;32m     26\u001b[0m \u001b[39mfor\u001b[39;00m tokens \u001b[39min\u001b[39;00m args:\n\u001b[1;32m     27\u001b[0m     messages\u001b[39m.\u001b[39mappend({\u001b[39m\"\u001b[39m\u001b[39mrole\u001b[39m\u001b[39m\"\u001b[39m: \u001b[39m\"\u001b[39m\u001b[39muser\u001b[39m\u001b[39m\"\u001b[39m, \u001b[39m\"\u001b[39m\u001b[39mcontent\u001b[39m\u001b[39m\"\u001b[39m: tokens})\n\u001b[0;32m---> 29\u001b[0m response \u001b[39m=\u001b[39m openai\u001b[39m.\u001b[39;49mChatCompletion\u001b[39m.\u001b[39;49mcreate(\n\u001b[1;32m     30\u001b[0m     model\u001b[39m=\u001b[39;49m\u001b[39m\"\u001b[39;49m\u001b[39mgpt-3.5-turbo\u001b[39;49m\u001b[39m\"\u001b[39;49m,\n\u001b[1;32m     31\u001b[0m     messages\u001b[39m=\u001b[39;49mmessages\n\u001b[1;32m     32\u001b[0m )\n\u001b[1;32m     34\u001b[0m reply \u001b[39m=\u001b[39m response\u001b[39m.\u001b[39mchoices[\u001b[39m0\u001b[39m]\u001b[39m.\u001b[39mmessage\u001b[39m.\u001b[39mcontent\n\u001b[1;32m     35\u001b[0m \u001b[39mreturn\u001b[39;00m reply\n",
      "File \u001b[0;32m/opt/homebrew/lib/python3.11/site-packages/openai/api_resources/chat_completion.py:25\u001b[0m, in \u001b[0;36mChatCompletion.create\u001b[0;34m(cls, *args, **kwargs)\u001b[0m\n\u001b[1;32m     23\u001b[0m \u001b[39mwhile\u001b[39;00m \u001b[39mTrue\u001b[39;00m:\n\u001b[1;32m     24\u001b[0m     \u001b[39mtry\u001b[39;00m:\n\u001b[0;32m---> 25\u001b[0m         \u001b[39mreturn\u001b[39;00m \u001b[39msuper\u001b[39;49m()\u001b[39m.\u001b[39;49mcreate(\u001b[39m*\u001b[39;49margs, \u001b[39m*\u001b[39;49m\u001b[39m*\u001b[39;49mkwargs)\n\u001b[1;32m     26\u001b[0m     \u001b[39mexcept\u001b[39;00m TryAgain \u001b[39mas\u001b[39;00m e:\n\u001b[1;32m     27\u001b[0m         \u001b[39mif\u001b[39;00m timeout \u001b[39mis\u001b[39;00m \u001b[39mnot\u001b[39;00m \u001b[39mNone\u001b[39;00m \u001b[39mand\u001b[39;00m time\u001b[39m.\u001b[39mtime() \u001b[39m>\u001b[39m start \u001b[39m+\u001b[39m timeout:\n",
      "File \u001b[0;32m/opt/homebrew/lib/python3.11/site-packages/openai/api_resources/abstract/engine_api_resource.py:153\u001b[0m, in \u001b[0;36mEngineAPIResource.create\u001b[0;34m(cls, api_key, api_base, api_type, request_id, api_version, organization, **params)\u001b[0m\n\u001b[1;32m    127\u001b[0m \u001b[39m@classmethod\u001b[39m\n\u001b[1;32m    128\u001b[0m \u001b[39mdef\u001b[39;00m \u001b[39mcreate\u001b[39m(\n\u001b[1;32m    129\u001b[0m     \u001b[39mcls\u001b[39m,\n\u001b[0;32m   (...)\u001b[0m\n\u001b[1;32m    136\u001b[0m     \u001b[39m*\u001b[39m\u001b[39m*\u001b[39mparams,\n\u001b[1;32m    137\u001b[0m ):\n\u001b[1;32m    138\u001b[0m     (\n\u001b[1;32m    139\u001b[0m         deployment_id,\n\u001b[1;32m    140\u001b[0m         engine,\n\u001b[0;32m   (...)\u001b[0m\n\u001b[1;32m    150\u001b[0m         api_key, api_base, api_type, api_version, organization, \u001b[39m*\u001b[39m\u001b[39m*\u001b[39mparams\n\u001b[1;32m    151\u001b[0m     )\n\u001b[0;32m--> 153\u001b[0m     response, _, api_key \u001b[39m=\u001b[39m requestor\u001b[39m.\u001b[39;49mrequest(\n\u001b[1;32m    154\u001b[0m         \u001b[39m\"\u001b[39;49m\u001b[39mpost\u001b[39;49m\u001b[39m\"\u001b[39;49m,\n\u001b[1;32m    155\u001b[0m         url,\n\u001b[1;32m    156\u001b[0m         params\u001b[39m=\u001b[39;49mparams,\n\u001b[1;32m    157\u001b[0m         headers\u001b[39m=\u001b[39;49mheaders,\n\u001b[1;32m    158\u001b[0m         stream\u001b[39m=\u001b[39;49mstream,\n\u001b[1;32m    159\u001b[0m         request_id\u001b[39m=\u001b[39;49mrequest_id,\n\u001b[1;32m    160\u001b[0m         request_timeout\u001b[39m=\u001b[39;49mrequest_timeout,\n\u001b[1;32m    161\u001b[0m     )\n\u001b[1;32m    163\u001b[0m     \u001b[39mif\u001b[39;00m stream:\n\u001b[1;32m    164\u001b[0m         \u001b[39m# must be an iterator\u001b[39;00m\n\u001b[1;32m    165\u001b[0m         \u001b[39massert\u001b[39;00m \u001b[39mnot\u001b[39;00m \u001b[39misinstance\u001b[39m(response, OpenAIResponse)\n",
      "File \u001b[0;32m/opt/homebrew/lib/python3.11/site-packages/openai/api_requestor.py:298\u001b[0m, in \u001b[0;36mAPIRequestor.request\u001b[0;34m(self, method, url, params, headers, files, stream, request_id, request_timeout)\u001b[0m\n\u001b[1;32m    277\u001b[0m \u001b[39mdef\u001b[39;00m \u001b[39mrequest\u001b[39m(\n\u001b[1;32m    278\u001b[0m     \u001b[39mself\u001b[39m,\n\u001b[1;32m    279\u001b[0m     method,\n\u001b[0;32m   (...)\u001b[0m\n\u001b[1;32m    286\u001b[0m     request_timeout: Optional[Union[\u001b[39mfloat\u001b[39m, Tuple[\u001b[39mfloat\u001b[39m, \u001b[39mfloat\u001b[39m]]] \u001b[39m=\u001b[39m \u001b[39mNone\u001b[39;00m,\n\u001b[1;32m    287\u001b[0m ) \u001b[39m-\u001b[39m\u001b[39m>\u001b[39m Tuple[Union[OpenAIResponse, Iterator[OpenAIResponse]], \u001b[39mbool\u001b[39m, \u001b[39mstr\u001b[39m]:\n\u001b[1;32m    288\u001b[0m     result \u001b[39m=\u001b[39m \u001b[39mself\u001b[39m\u001b[39m.\u001b[39mrequest_raw(\n\u001b[1;32m    289\u001b[0m         method\u001b[39m.\u001b[39mlower(),\n\u001b[1;32m    290\u001b[0m         url,\n\u001b[0;32m   (...)\u001b[0m\n\u001b[1;32m    296\u001b[0m         request_timeout\u001b[39m=\u001b[39mrequest_timeout,\n\u001b[1;32m    297\u001b[0m     )\n\u001b[0;32m--> 298\u001b[0m     resp, got_stream \u001b[39m=\u001b[39m \u001b[39mself\u001b[39;49m\u001b[39m.\u001b[39;49m_interpret_response(result, stream)\n\u001b[1;32m    299\u001b[0m     \u001b[39mreturn\u001b[39;00m resp, got_stream, \u001b[39mself\u001b[39m\u001b[39m.\u001b[39mapi_key\n",
      "File \u001b[0;32m/opt/homebrew/lib/python3.11/site-packages/openai/api_requestor.py:700\u001b[0m, in \u001b[0;36mAPIRequestor._interpret_response\u001b[0;34m(self, result, stream)\u001b[0m\n\u001b[1;32m    692\u001b[0m     \u001b[39mreturn\u001b[39;00m (\n\u001b[1;32m    693\u001b[0m         \u001b[39mself\u001b[39m\u001b[39m.\u001b[39m_interpret_response_line(\n\u001b[1;32m    694\u001b[0m             line, result\u001b[39m.\u001b[39mstatus_code, result\u001b[39m.\u001b[39mheaders, stream\u001b[39m=\u001b[39m\u001b[39mTrue\u001b[39;00m\n\u001b[1;32m    695\u001b[0m         )\n\u001b[1;32m    696\u001b[0m         \u001b[39mfor\u001b[39;00m line \u001b[39min\u001b[39;00m parse_stream(result\u001b[39m.\u001b[39miter_lines())\n\u001b[1;32m    697\u001b[0m     ), \u001b[39mTrue\u001b[39;00m\n\u001b[1;32m    698\u001b[0m \u001b[39melse\u001b[39;00m:\n\u001b[1;32m    699\u001b[0m     \u001b[39mreturn\u001b[39;00m (\n\u001b[0;32m--> 700\u001b[0m         \u001b[39mself\u001b[39;49m\u001b[39m.\u001b[39;49m_interpret_response_line(\n\u001b[1;32m    701\u001b[0m             result\u001b[39m.\u001b[39;49mcontent\u001b[39m.\u001b[39;49mdecode(\u001b[39m\"\u001b[39;49m\u001b[39mutf-8\u001b[39;49m\u001b[39m\"\u001b[39;49m),\n\u001b[1;32m    702\u001b[0m             result\u001b[39m.\u001b[39;49mstatus_code,\n\u001b[1;32m    703\u001b[0m             result\u001b[39m.\u001b[39;49mheaders,\n\u001b[1;32m    704\u001b[0m             stream\u001b[39m=\u001b[39;49m\u001b[39mFalse\u001b[39;49;00m,\n\u001b[1;32m    705\u001b[0m         ),\n\u001b[1;32m    706\u001b[0m         \u001b[39mFalse\u001b[39;00m,\n\u001b[1;32m    707\u001b[0m     )\n",
      "File \u001b[0;32m/opt/homebrew/lib/python3.11/site-packages/openai/api_requestor.py:763\u001b[0m, in \u001b[0;36mAPIRequestor._interpret_response_line\u001b[0;34m(self, rbody, rcode, rheaders, stream)\u001b[0m\n\u001b[1;32m    761\u001b[0m stream_error \u001b[39m=\u001b[39m stream \u001b[39mand\u001b[39;00m \u001b[39m\"\u001b[39m\u001b[39merror\u001b[39m\u001b[39m\"\u001b[39m \u001b[39min\u001b[39;00m resp\u001b[39m.\u001b[39mdata\n\u001b[1;32m    762\u001b[0m \u001b[39mif\u001b[39;00m stream_error \u001b[39mor\u001b[39;00m \u001b[39mnot\u001b[39;00m \u001b[39m200\u001b[39m \u001b[39m<\u001b[39m\u001b[39m=\u001b[39m rcode \u001b[39m<\u001b[39m \u001b[39m300\u001b[39m:\n\u001b[0;32m--> 763\u001b[0m     \u001b[39mraise\u001b[39;00m \u001b[39mself\u001b[39m\u001b[39m.\u001b[39mhandle_error_response(\n\u001b[1;32m    764\u001b[0m         rbody, rcode, resp\u001b[39m.\u001b[39mdata, rheaders, stream_error\u001b[39m=\u001b[39mstream_error\n\u001b[1;32m    765\u001b[0m     )\n\u001b[1;32m    766\u001b[0m \u001b[39mreturn\u001b[39;00m resp\n",
      "\u001b[0;31mInvalidRequestError\u001b[0m: [['transferring', 'data', 'tofrom', 'aws', 's3', 'storage', 'working', 'aws', 'cli', 'transfer', 'data', 'tofrom', 's3', 'bucket', 'storage', 'youll', 'use', 'aws', 'command', 'line', 'interface', 'cli', 'aws', 'cli', 'preinstalled', 'aws', 'cluster', 'pw', 'platform', 'enter', 'command', 'directly', 'ide', 'logging', 'controller', 'active', 'aws', 'cluster', 'youre', 'transferring', 'data', 's3', 'bucket', 'folder', 'onpremise', 'cluster', 'remote', 'device', 'youll', 'likely', 'need', 'install', 'aws', 'cli', 'first', 'check', 'aws', 'cli', 'open', 'terminal', 'command', 'line', 'navigate', 'data', 'destination', 'enter', 'aws', 'aws', 'cli', 'installed', 'youll', 'see', 'message', 'show', 'location', 'usrlocalbinaws', 'aws', 'cli', 'installed', 'youll', 'see', 'message', 'usrbinwhich', 'aws', 'aws', 'found', 'install', 'aws', 'cli', 'need', 'install', 'aws', 'cli', 'recommend', 'following', 'aws', 'installation', 'guide', 'includes', 'osspecific', 'instruction', 'linux', 'macos', 'window', 'well', 'troubleshooting', 'tip', 'transferring', 'data', 'export', 'aws', 'credential', 'terminal', 'enter', 'export', 'awsaccesskeyid', 'aws', 'access', 'key', 'id', 'blank', 'space', 'enter', 'export', 'awssecretaccesskey', 'aws', 'access', 'key', 'id', 'blank', 'space', 'info', 'note', 'please', 'sure', 'include', 'quotation', 'mark', 'end', 'key', 'id', 'character', 'inside', 'aws', 'key', 'id', 'without', 'quotation', 'mark', 'system', 'try', 'read', 'command', 'validate', 'aws', 'credential', 'terminal', 'enter', 'aws', 'sts', 'getcalleridentity', 'check', 'system', 'correctly', 'registered', 'aws', 'credential', 'login', 'successful', 'youll', 'see', 'aws', 'userid', 'account', 'arn', 'bash', 'userid', 'abcd1e2fg3h4ijklmnopq', 'account', '012345678901', 'arn', 'arnawsiam', '012345678901useradmin', 'login', 'successful', 'enter', 'aws', 'access', 'key', 'export', 'command', 'also', 'configure', 'login', 'credential', 'manually', 'aws', 'configure', 'information', 'process', 'see', 'aws', 'documentation', 'environment', 'variable', 'configuration', 'file', 'list', 'file', 's3', 'terminal', 'enter', 'aws', 's3', 'l', 's3bucketname', 'display', 'file', 'bucket', 'guide', 'used', 'small', 'text', 'file', 'named', 'testtxt', 'command', 'returned', 'message', 'bash', 'demopwuserdemopwclouddatatransfer', 'aws', 's3', 'l', 's3clouddatatest', '20230208', '163756', '28', 'testtxt', 'transfer', 'file', 's3', 'terminal', 'enter', 'aws', 's3', 'cp', 's3bucketnamefilename', 'download', 'file', 's3', 'storage', 'current', 'directory', 'youll', 'see', 'message', 'bash', 'demopwuserdemopwclouddatatransfer', 'aws', 's3', 'cp', 's3clouddatatesttesttxt', 'download', 's3clouddatatesttesttxt', 'testtxt', 'download', 'file', 's3', 'storage', 'specific', 'directory', 'enter', 'name', 'aws', 's3', 'cp', 'command', 'used', 'storage', 'directory', 'example', 'bash', 'demopwuserdemopwclouddatatransfer', 'aws', 's3', 'cp', 's3clouddatatesttesttxt', 'storage', 'download', 's3clouddatatesttesttxt', 'storage', 'transfer', 'file', 's3', 'terminal', 'enter', 'aws', 's3', 'cp', 'filename', 's3bucketname', 'transfer', 'file', 's3', 'bucket', 'youll', 'see', 'message', 'bash', 'demopwuserdemopwclouddatatransfer', 'aws', 's3', 'cp', 'testuploadtxt', 's3clouddatatest', 'upload', 'testuploadtxt', 's3clouddatatesttestuploadtxt', 'check', 's3', 'file', 'aws', 's3', 'l', 's3bucketname', 'bash', 'demopwuserdemopwclouddatatransfer', 'aws', 's3', 'l', 's3clouddatatest', '20230208', '163756', '28', 'testtxt', '20230208', '171924', '28', 'testuploadtxt', 'delete', 'file', 's3', 'terminal', 'enter', 'aws', 's3', 'rm', 's3bucketnamefilename', 'delete', 'file', 'youll', 'see', 'message', 'bash', 'demopwuserdemopwclouddatatransfer', 'aws', 's3', 'rm', 's3clouddatatesttestuploadtxt', 'delete', 's3clouddatatesttestuploadtxt', 'check', 's3', 'file', 'aws', 's3', 'l', 's3bucketname', 'bash', 'demopwuserdemopwclouddatatransfer', 'aws', 's3', 'l', 's3clouddatatest', '20230208', '163756', '28', 'testtxt'], ['logging', 'controller', 'cluster', 'use', 'one', 'node', 'called', 'controller', 'delegate', 'task', 'compute', 'node', 'carry', 'command', 'complete', 'job', 'complete', 'many', 'task', 'pw', 'platform', 'logging', 'controller', 'submitting', 'job', 'transferring', 'data', 'multiple', 'way', 'log', 'controller', 'within', 'platform', 'logging', 'resource', 'name', 'youve', 'started', 'cluster', 'copy', 'name', 'computing', 'resource', 'box', 'expand', 'ide', 'clicking', 'icon', 'terminal', 'doesnt', 'appear', 'ide', 'automatically', 'open', 'one', 'selecting', 'terminal', 'new', 'terminal', 'default', 'terminal', 'show', 'usernamepwuserusernamepw', 'enter', 'command', 'ssh', 'resourcenameclusterspw', 'terminal', 'display', 'message', 'warning', 'permanently', 'added', 'resourcenameclusterspw', 'ecdsa', 'list', 'known', 'host', 'well', 'last', 'login', 'location', 'logging', 'ip', 'address', 'youve', 'started', 'cluster', 'click', 'ip', 'address', 'computing', 'resource', 'box', 'copy', 'expand', 'ide', 'clicking', 'icon', 'terminal', 'doesnt', 'appear', 'ide', 'automatically', 'open', 'one', 'selecting', 'terminal', 'new', 'terminal', 'default', 'terminal', 'show', 'usernamepwuserusernamepw', 'enter', 'command', 'ssh', 'usernameipaddress', 'terminal', 'display', 'last', 'login', 'location', 'info', 'note', 'time', 'start', 'cluster', 'controller', 'assigned', 'random', 'ip', 'address', 'cloud', 'provider', 'available', 'address', 'stop', 'cluster', 'ip', 'address', 'released', 'automatically', 'likely', 'start', 'cluster', 'although', 'unlikely', 'youll', 'encounter', 'cluster', 'ip', 'address', 'may', 'occur', 'start', 'stop', 'cluster', 'frequently', 'may', 'receive', 'following', 'message', 'warning', 'remote', 'host', 'identification', 'changed', 'resolve', 'issue', 'enter', 'command', 'sshkeygen', 'r', 'controlleripaddress', 'see', 'following', 'message', 'shell', 'demopwuserdemo', 'sshkeygen', 'r', '35224100236', 'host', '35224100236', 'found', 'line', '137', 'usersdemosshknownhosts', 'updated', 'original', 'content', 'retained', 'usersdemosshknownhostsold', 'demopwuserdemo', 'ssh', 'canaryparallelworks', 'authenticity', 'host', '35224100236', 'cant', 'established', 'ed25519', 'key', 'fingerprint', 'sha256kzr9scw5qkmiceh2e5z7zhpgadououubnpkqj8uqsog', 'key', 'known', 'name', 'sure', 'want', 'continue', 'connecting', 'yesnofingerprint', 'enter', 'yes', 'youll', 'see', 'message', 'ip', 'address', 'added', 'list', 'known', 'host', 'shell', 'warning', 'permanently', 'added', '35224100236', 'ed25519', 'list', 'known', 'host', 'last', 'login', 'wed', 'jan', '11', '164036', '2023', '1046019063lightspeedhstntxsbcglobalnet', 'demopwuserdemo', 'outside', 'platform', 'logging', 'configuration', 'setting', 'want', 'access', 'cluster', 'terminal', 'command', 'line', 'computer', 'use', 'ssh', 'key', 'log', 'controller', 'see', 'dont', 'ssh', 'key', 'need', 'help', 'cluster', 'navigate', 'cluster', 'configuration', 'setting', 'clicking', 'gear', 'icon', 'computing', 'resource', 'box', 'clicking', 'name', 'resource', 'tab', 'paste', 'public', 'ssh', 'key', 'access', 'public', 'key', 'dialog', 'box', 'select', 'save', 'resource', 'start', 'cluster', 'cluster', 'active', 'navigate', 'terminal', 'command', 'line', 'device', 'enter', 'cluster', 'ip', 'address', 'ssh', 'usernameipaddress', 'youll', 'receive', 'message', 'sure', 'want', 'continue', 'connecting', 'yesnofingerprint', 'enter', 'yes', 'terminal', 'command', 'line', 'display', 'warning', 'permanently', 'added', 'resourcenameclusterspw', 'ecdsa', 'list', 'known', 'host', 'well', 'last', 'login', 'location', 'send', 'command', 'controller', 'remote', 'device', 'logging', 'account', 'setting', 'also', 'add', 'ssh', 'key', 'pw', 'account', 'allow', 'log', 'active', 'cluster', 'device', 'ssh', 'key', 'navigate', 'account', 'page', 'username', 'account', 'authentication', 'tab', 'click', 'add', 'ssh', 'key', 'key', 'field', 'paste', 'public', 'ssh', 'key', 'enter', 'name', 'key', 'title', 'field', 'click', 'add', 'key', 'log', 'active', 'cluster', 'navigate', 'terminal', 'command', 'line', 'device', 'enter', 'ssh', 'pathtosshprivatekey', 'usernameipaddress', 'shell', 'parallelworksparallelsmacbookair', 'sshtest', 'ssh', 'idrsa', 'demo3413524147', 'last', 'failed', 'login', 'thu', 'mar', '2', '094820', 'utc', '2023', '6094197104bcgoogleusercontentcom', 'sshnotty', 'demodemocluster70', 'faq', 'dont', 'use', 'ssh', 'key', 'within', 'platform', 'user', 'workspace', 'ssh', 'key', 'preprovisioned', 'logging', 'controller', 'ide', 'doesnt', 'require', 'ssh', 'key', 'management', 'public', 'key', 'automatically', 'propagated', 'controller', 'private', 'key', 'stay', 'inside', 'workspace', 'whenever', 'start', 'new', 'cluster', 'new', 'key', 'generated', 'propagated', 'facilitate', 'ssh', 'compute', 'node', 'process', 'work', 'home', 'directory', 'shared', 'across', 'node', 'cluster', 'adding', 'public', 'workspace', 'key', 'authorizedkeys', 'file', 'controller', 'automatically', 'allows', 'ssh', 'compute', 'node', 'access', 'public', 'workspace', 'key', 'time', 'command', 'cat', 'sshpwidrsapub', 'ide', 'terminal', 'see', '', 'failed', 'login', 'attempt', 'first', 'time', 'log', 'controller', 'failed', 'login', 'attempt', 'wont', 'affect', 'cluster', 'performance', 'theyre', 'result', 'platform', 'communicates', 'cloud', 'service', 'provider', 'make', 'resource', 'available', 'provisioning', 'process', 'platform', 'repeatedly', 'try', 'ssh', 'controller', 'controller', 'come', 'online', 'platform', 'attempt', 'establish', 'tunnel', 'connection', 'user', 'workspace', 'controller', 'user', 'workspace', 'key', 'isnt', 'available', 'system', 'partway', 'bootstrap', 'process', 'system', 'register', 'connection', 'attempt', 'failure', 'diagram', 'process', 'dont', 'ssh', 'key', 'step', 'guide', 'finding', 'creating', 'ssh', 'key', 'device', 'macos', 'window', 'info', 'note', 'instruction', 'section', 'work', 'window', 'use', 'shell', 'emulator', 'like', 'git', 'bash', 'powershell', 'use', 'putty', 'manage', 'ssh', 'key', 'window', 'see', 'use', 'putty', 'check', 'ssh', 'key', 'open', 'terminal', 'macos', 'command', 'prompt', 'window', 'enter', 'l', 'ssh', 'check', 'ssh', 'key', 'device', 'youve', 'never', 'generated', 'ssh', 'key', 'youll', 'see', 'message', 'l', 'ssh', 'file', 'directory', 'ssh', 'key', 'device', 'theyll', 'listed', 'want', 'use', 'one', 'existing', 'key', 'see', 'get', 'public', 'key', 'create', 'ssh', 'key', 'enter', 'sshkeygen', 'youll', 'see', 'following', 'message', 'shell', 'generating', 'publicprivate', 'rsa', 'key', 'pair', 'enter', 'file', 'save', 'key', 'usersyourname', 'sshidrsa', 'type', 'name', 'new', 'location', 'press', 'returnenter', 'want', 'keep', 'default', 'location', 'first', 'time', 'youve', 'generated', 'ssh', 'key', 'use', 'default', 'location', 'youll', 'see', 'created', 'directory', 'usersyourname', 'ssh', 'youll', 'prompted', 'enter', 'passphrase', 'ssh', 'key', 'following', 'message', 'shell', 'enter', 'passphrase', 'empty', 'passphrase', 'enter', 'passphrase', 'enter', 'passphrase', 'press', 'returnenter', 'line', 'dont', 'want', 'use', 'one', 'youll', 'see', 'following', 'message', 'along', 'key', 'fingerprint', 'key', 'randomart', 'image', 'shell', 'identification', 'saved', 'usersyourname', 'sshidrsa', 'public', 'key', 'saved', 'usersyourname', 'sshidrsapub', 'enter', 'l', 'ssh', 'youll', 'see', 'private', 'public', 'ssh', 'key', 'get', 'public', 'key', 'enter', 'cat', 'sshidrsapub', 'youll', 'see', 'full', 'content', 'public', 'ssh', 'key', 'copy', 'text', 'beginning', 'sshrsa', 'end', 'local', 'youll', 'paste', 'access', 'public', 'key', 'box', 'cluster', 'configuration', 'setting', 'key', 'box', 'account', 'authentication', 'key', 'caution', 'important', 'safety', 'sake', 'never', 'store', 'private', 'ssh', 'key', 'server', 'someone', 'gained', 'access', 'private', 'key', 'could', 'use', 'access', 'device', 'key', 'protects', 'use', 'putty', 'public', 'ssh', 'key', 'must', 'openssh', 'format', 'use', 'pw', 'platform', 'use', 'putty', 'ssh', 'key', 'likely', 'saved', 'ppk', 'format', 'like', 'shell', 'puttyuserkeyfile2', 'sshrsa', 'encryption', 'none', 'comment', 'rsakey20211005', 'publiclines', '6', 'aaaab3nzac1yc2eaaaabjqaaaqeao7fygiresvecemn3clxkgqhg5kcqtel4vu', 'x81zolf1p8rjsjcnlrrd0o2zfquhanfbykadso6vpg18eyhiqahgeogzuaf7', 'tq4oazl3yvyjkjzxqdxhnrhnjmcj438pjd69crqh4apgtupqujookje1pcpcp7fy', 'p2y2hb0wm23k60twsml9wf2p6gsyvyxvwnlohja9luy2dtk39kcs5tmiofhi', 'toe3zjxzytv0xllnfgjxm1gv38yia9r9fzdmxqm2hihfbt5ybb6mabbrdhvto', 'dlha0y8oitqosmoga13mocfyllbgou65ehtnj9talkex3lgdw', 'copying', 'ppk', 'key', 'must', 'converted', 'openssh', 'format', 'easiest', 'way', 'puttygen', 'typically', 'included', 'putty', 'installation', 'cli', 'example', 'using', 'puttygen', 'convert', 'ppk', 'key', 'openssh', 'format', 'shell', 'puttygen', 'puttykeyppk', 'l', 'puttykeypub', 'command', 'explanation', 'puttykeyppk', 'source', 'key', 'file', 'l', 'openssh', 'public', 'key', 'output', 'type', 'puttykeypub', 'output', 'file', 'name', 'result', 'single', 'line', 'public', 'key', 'file', 'openssh', 'format', 'shell', 'cat', 'puttykeypub', 'sshrsa', 'aaaab3nzac1yc2eaaaabjqaaaqeao7fygiresvecemn3clxkgqhg5kcqtel4vux81zolf1p8rjsjcnlrrd0o2zfquhanfbykadso6vpg18eyhiqahgeogzuaf7tq4oazl3yvyjkjzxqdxhnrhnjmcj438pjd69crqh4apgtupqujookje1pcpcp7fyp2y2hb0wm23k60twsml9wf2p6gsyvyxvwnlohja9luy2dtk39kcs5tmiofhitoe3zjxzytv0xllnfgjxm1gv38yia9r9fzdmxqm2hihfbt5ybb6mabbrdhvtodlha0y8oitqosmoga13mocfyllbgou65ehtnj9talkex3lgdw', 'rsakey20211005', 'copy', 'paste', 'key', 'cluster', 'configuration', 'setting', 'pw', 'platform'], ['import', 'tab', 'themetabs', 'import', 'tabitem', 'themetabitem', 'adding', 'cloud', 'account', 'page', 'explains', 'add', 'cloud', 'service', 'provider', 'key', 'pw', 'organization', 'allow', 'provision', 'infrastructure', 'member', 'organization', 'use', 'start', 'cluster', 'info', 'persona', 'step', 'included', 'page', 'completed', 'administrator', 'organization', 'navigate', 'organization', 'setting', 'username', 'organization', 'next', 'page', 'click', 'key', 'key', 'click', 'new', 'key', 'select', 'cloud', 'service', 'provider', 'type', 'dropdown', 'menu', 'next', 'youll', 'add', 'cloud', 'account', 'key', 'process', 'look', 'slightly', 'different', 'cloud', 'service', 'provider', 'choose', 'one', 'youre', 'using', 'option', 'aws', 'us', 'access', 'key', 'authentication', 'youll', 'need', 'access', 'key', 'private', 'access', 'key', 'add', 'aws', 'account', 'pw', 'platform', 'dont', 'access', 'key', 'create', 'one', 'azure', 'us', 'service', 'principle', 'authenticated', 'client', 'secret', 'youll', 'need', 'client', 'id', 'tenant', 'id', 'client', 'secret', 'subscription', 'id', 'add', 'azure', 'account', 'pw', 'platform', 'dont', 'principal', 'secret', 'create', 'one', 'google', 'us', 'service', 'account', 'key', 'authentication', 'youll', 'need', 'json', 'file', 'key', 'add', 'google', 'account', 'pw', 'platform', 'dont', 'service', 'account', 'key', 'create', 'one', 'entering', 'credential', 'click', 'create', 'cloud', 'key', 'next', 'page', 'youll', 'see', 'message', 'security', 'credential', 'added', 'new', 'key', 'listed', 'key', 'tab'], ['deployment', 'base', 'infrastructure', 'order', 'provision', 'cloud', 'cluster', 'must', 'first', 'deploy', 'base', 'set', 'infrastructure', 'csp', 'account', 'throughout', 'documentation', 'refer', 'base', 'infrastructure', 'base', 'infrastructure', 'shared', 'multiple', 'cluster', 'varies', 'csp', 'essence', 'think', 'networking', 'stack', 'cluster', 'deployed', 'top', 'find', 'specific', 'detail', 'implementation', 'base', 'infrastructure', 'csp', 'aws', 'infrastructure', 'deploying', 'base', 'infrastructure', 'provision', 'following', 'aws', 'virtual', 'private', 'cloud', 'vpc', 'internet', 'gateway', 'public', 'private', 'subnets', 'public', 'private', 'route', 'table', 'route', 'network', 'address', 'translation', 'nat', 'gateway', 'elastic', 'ip', 'address', 'nat', 'gateway', 'route', '53', 'hosted', 'zone', 'security', 'group', 'schematic', 'show', 'pwdeployed', 'cluster', 'aws', 'cloud', 'controller', 'compute', 'node', 'shown', 'availability', 'zone', 'useast1a', 'inside', 'useast1', 'region', 'compute', 'node', 'region', 'use', 'single', 'nat', 'gateway', 'outbound', 'internet', 'connectivity', 'nat', 'gateway', 'preprovisioned', 'part', 'base', 'infrastructure', 'ami', 'used', 'controller', 'compute', 'node', 'inside', 'parallel', 'work', 'aws', 'account', 'info', 'expense', 'information', 'creating', 'nat', 'gateway', 'result', 'additional', 'monthly', 'charge', 'aws', 'account', 'information', 'please', 'see', 'aws', 'pricing', 'list'], ['label', 'navigating', 'platform', 'navigating', 'platform', 'section', 'introduces', 'major', 'feature', 'platform', 'help', 'new', 'user', 'get', 'oriented', 'logging', 'navigate', 'cloudparallelworks', 'youll', 'see', 'login', 'page', 'url', 'use', 'may', 'different', 'cloudparallelworks', 'depending', 'organization', 'whether', 'use', 'onpremise', 'dedicated', 'instance', 'platform', 'log', 'password', 'box', 'appear', 'enter', 'username', 'email', 'address', 'click', 'next', 'enter', 'username', 'see', 'error', 'message', 'username', 'email', 'found', 'please', 'reach', 'u', 'supportparallelworkscom', 'assistance', 'home', 'page', 'log', 'pw', 'platform', 'youll', 'see', 'compute', 'tab', 'default', 'youll', 'regularly', 'interact', 'following', 'platform', 'feature', 'compute', 'tab', 'monitor', 'resource', 'workflow', 'resource', 'tab', 'create', 'manage', 'resource', 'workflow', 'tab', 'add', 'manage', 'workflow', 'user', 'workspace', 'panel', 'labeled', 'explorer', 'pw', 'access', 'terminal', 'interface', 'file', 'job', 'youve', 'run', 'platform', 'user', 'menu', 'give', 'access', 'account', 'setting', 'pw', 'marketplace', 'compute', 'compute', 'tab', 'serf', 'primary', 'activity', 'monitor', 'pw', 'platform', 'select', 'favorited', 'workflow', 'adjust', 'resource', 'requirement', 'view', 'past', 'run', 'result', 'page', 'four', 'main', 'box', 'tab', 'favorite', 'workflow', 'store', 'favorited', 'workflow', 'easy', 'access', 'workflow', 'monitor', 'keep', 'track', 'current', 'past', 'workflow', 'run', 'cancel', 'run', 'run', 'workflow', 'resource', 'monitor', 'see', 'many', 'node', 'active', 'long', 'theyve', 'running', 'computing', 'resource', 'stop', 'start', 'resource', 'configure', 'clicking', 'gear', 'icon', 'box', 'expanded', 'default', 'collapse', 'box', 'clicking', 'title', 'arrow', 'next', 'title', 'also', 'collapse', 'individual', 'item', 'computing', 'resource', 'clicking', 'title', 'resource', 'resource', 'tab', 'access', 'current', 'computing', 'resource', 'add', 'new', 'one', 'also', 'manage', 'existing', 'resource', 'favoriting', 'duplicating', 'editing', 'deleting', 'sharing', 'user', 'organization', 'information', 'add', 'configure', 'new', 'resource', 'see', 'creating', 'cluster', 'configuring', 'cluster', 'workflow', 'workflow', 'tab', 'display', 'preconfigured', 'workflow', 'tool', 'template', 'run', 'platform', 'workflow', 'build', 'add', 'marketplace', 'appear', 'automatically', 'also', 'manage', 'existing', 'workflow', 'favoriting', 'duplicating', 'editing', 'deleting', 'sharing', 'user', 'organization', 'user', 'workspace', 'ide', 'explorer', 'pw', 'panel', 'right', 'side', 'screen', 'user', 'workspace', 'also', 'known', 'integrated', 'development', 'environment', 'ide', 'click', 'ide', 'icon', 'panel', 'expand', 'fit', 'screen', 'showing', 'terminal', 'pane', 'bottom', 'page', 'default', 'ide', 'powerful', 'tool', 'allowing', 'view', 'job', 'output', 'error', 'file', 'run', 'code', 'debug', 'workflow', 'ide', 'based', 'theia', 'use', 'terminal', 'ide', 'run', 'command', 'much', 'like', 'terminal', 'macos', 'command', 'prompt', 'window', 'hide', 'ide', 'completely', 'clicking', 'arrow', 'icon', 'appears', 'bottom', 'right', 'corner', 'screen', 'ide', 'collapsed', 'marketplace', 'marketplace', 'page', 'select', 'preconfigured', 'workflow', 'project', 'navigate', 'clicking', 'username', 'selecting', 'marketplace', 'dropdown', 'menu', 'sort', 'preconfigured', 'workflow', 'using', 'either', 'search', 'bar', 'category', 'pane', 'default', 'item', 'category', 'collapsed', 'expand', 'click', 'account', 'account', 'page', 'manage', 'login', 'information', 'cloud', 'snapshot', 'cloud', 'account', 'navigate', 'clicking', 'username', 'selecting', 'account', 'dropdown', 'menu', 'section', 'account', 'page', 'detailed', 'profile', 'change', 'password', 'well', 'display', 'name', 'typing', 'name', 'field', 'username', 'email', 'locked', 'assigned', 'account', 'created', 'api', 'key', 'access', 'api', 'key', 'youll', 'use', 'api', 'key', 'time', 'need', 'interact', 'api', 'automation', 'task', 'cloud', 'snapshot', 'create', 'access', 'cloud', 'snapshot', 'create', 'cloud', 'snapshot', 'temporary', 'virtual', 'machine', 'vm', 'executes', 'script', 'system', 'take', 'snapshot', 'vm', 'us', 'create', 'image', 'access', 'image', 'dropdown', 'menu', 'possible', 'select', 'machine', 'image', 'example', 'organization', 'us', 'application', 'take', 'hour', 'install', 'create', 'cloud', 'snapshot', 'computer', 'installation', 'use', 'snapshot', 'avoid', 'installation', 'process', 'every', 'time', 'user', 'need', 'application', 'information', 'see', 'working', 'cloud', 'snapshot', 'cloud', 'account', 'connect', 'pw', 'account', 'existing', 'cloud', 'account', 'aws', 'google', 'azure', 'use', 'private', 'ssh', 'key', 'existing', 'resource', 'feature', 'useful', 'need', 'connect', 'preconfigured', 'resource', 'either', 'cloud', 'account', 'another', 'user', 'organization', 'information', 'see', 'linking', 'cloud', 'account', 'coming', 'soon']] is not of type 'string' - 'messages.2.content'"
     ]
    }
   ],
   "source": [
    "response = run_gpt(query, rel_content)\n",
    "print(f\"ChatGPT: {response}\")"
   ]
  }
 ],
 "metadata": {
  "kernelspec": {
   "display_name": "Python 3",
   "language": "python",
   "name": "python3"
  },
  "language_info": {
   "codemirror_mode": {
    "name": "ipython",
    "version": 3
   },
   "file_extension": ".py",
   "mimetype": "text/x-python",
   "name": "python",
   "nbconvert_exporter": "python",
   "pygments_lexer": "ipython3",
   "version": "3.11.3"
  },
  "orig_nbformat": 4
 },
 "nbformat": 4,
 "nbformat_minor": 2
}
